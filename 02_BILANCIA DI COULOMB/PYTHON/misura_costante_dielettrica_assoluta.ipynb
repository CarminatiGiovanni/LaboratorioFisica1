{
 "cells": [
  {
   "attachments": {},
   "cell_type": "markdown",
   "metadata": {},
   "source": [
    "# misura costante $\\varepsilon_0$\n",
    "\n",
    "di seguito vengono fatte due stime per la costante dielettrica assoluta:\n",
    "la prima è basata su misure con distanza variabile (PARTE B) mentre la seconda misure a distanza fissa (PARTE A)\n",
    "\n",
    "$F = \\frac{1}{4\\pi\\varepsilon_0\\varepsilon_d}\\frac{Q_1Q_1}{d^2} \\quad \\oplus \\quad F = K_{tor}\\theta \\quad \\oplus \\quad Q = CV = 4\\pi\\varepsilon_0\\varepsilon_r aV$\n",
    "<span style='font-size:12px'>a = raggio della sfera</span>\n",
    "\n",
    "assumendo $\\varepsilon_d$ trascurabile otteniamo:\n",
    "\n",
    "$\\mathbf{\\theta = \\frac{4\\pi\\varepsilon_0 a^2}{K_{tor}}\\frac{V_1V_2}{d^2}}$"
   ]
  },
  {
   "cell_type": "code",
   "execution_count": 13,
   "metadata": {},
   "outputs": [],
   "source": [
    "import numpy as np\n",
    "from interpolazione3 import final_val\n",
    "\n",
    "COSTANTE_DI_TORSIONE = 8.705110844840937e-05 # da torsione PARTE C\n",
    "sigma_COSTANTE_DI_TORSIONE = 2.872700601623965e-07\n",
    "\n",
    "raggio = 0.017 # m"
   ]
  },
  {
   "attachments": {},
   "cell_type": "markdown",
   "metadata": {},
   "source": [
    "### distanza variabile $\\theta \\propto \\frac{1}{d^2}$:\n",
    "\n",
    "$B = \\frac{4\\pi\\varepsilon_0a^2V_1V_2}{K_{tor}} \\Rightarrow \\varepsilon_0 = \\frac{K_{tor}B}{4\\pi a^2V_1V_2}$"
   ]
  },
  {
   "cell_type": "code",
   "execution_count": 16,
   "metadata": {},
   "outputs": [
    {
     "name": "stdout",
     "output_type": "stream",
     "text": [
      "Epsilon0 distanza variabile:  (8.28 ± 0.2)e-12 \n"
     ]
    }
   ],
   "source": [
    "distanza_variabile_B = 0.012433912099555739 #B\n",
    "sigma_distanza_variabile_B = 0.00030288795101482175 #sigmaB\n",
    "\n",
    "EPSILON1 = COSTANTE_DI_TORSIONE * distanza_variabile_B / (4*np.pi*6000*6000*raggio**2)\n",
    "sigmaEPSILON1 = EPSILON1 * np.sqrt((sigma_COSTANTE_DI_TORSIONE/COSTANTE_DI_TORSIONE)**2+(sigma_distanza_variabile_B/distanza_variabile_B)**2)\n",
    "print('Epsilon0 distanza variabile: ',final_val(EPSILON1,sigmaEPSILON1,exp=-12))"
   ]
  },
  {
   "attachments": {},
   "cell_type": "markdown",
   "metadata": {},
   "source": [
    "### tensione variabile $\\theta \\propto V_1V_2$:\n",
    "\n",
    "$B = \\frac{4\\pi\\varepsilon_0a^2}{K_{tor}d^2} \\Rightarrow \\varepsilon_0 = \\frac{K_{tor}B d^2}{4\\pi a^2}$"
   ]
  },
  {
   "cell_type": "code",
   "execution_count": 15,
   "metadata": {},
   "outputs": [
    {
     "name": "stdout",
     "output_type": "stream",
     "text": [
      "Epsilon0:  (8.63 ± 0.12)e-12 \n"
     ]
    }
   ],
   "source": [
    "tensione_variabile_B = 3.598408064946805e-08 #B\n",
    "sigma_carica_variabile_B = 4.895069850371449e-10 #sigmaB\n",
    "d = 0.1 #m\n",
    "EPSILON2 = (tensione_variabile_B * COSTANTE_DI_TORSIONE * d**2)/(4*np.pi*np.power(raggio,2))\n",
    "sigmaEPSILON2 = EPSILON2 * np.sqrt((sigma_COSTANTE_DI_TORSIONE/COSTANTE_DI_TORSIONE)**2+(sigma_tensione_variabile_B/tensione_variabile_B)**2)\n",
    "print('Epsilon0 tensione variabile: ',final_val(EPSILON2,sigmaEPSILON2,exp=-12))"
   ]
  }
 ],
 "metadata": {
  "kernelspec": {
   "display_name": "Python 3",
   "language": "python",
   "name": "python3"
  },
  "language_info": {
   "codemirror_mode": {
    "name": "ipython",
    "version": 3
   },
   "file_extension": ".py",
   "mimetype": "text/x-python",
   "name": "python",
   "nbconvert_exporter": "python",
   "pygments_lexer": "ipython3",
   "version": "3.10.6"
  },
  "orig_nbformat": 4
 },
 "nbformat": 4,
 "nbformat_minor": 2
}
