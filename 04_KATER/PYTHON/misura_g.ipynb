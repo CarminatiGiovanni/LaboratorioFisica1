{
 "cells": [
  {
   "attachments": {},
   "cell_type": "markdown",
   "metadata": {},
   "source": [
    "## STIMA DI G CON PENDOLO DI KATER\n",
    "\n",
    "$T = 2\\pi\\sqrt{\\frac{D}{g}} \\Rightarrow g = \\frac{4\\pi^2D}{T^2}$\n",
    "\n",
    "$\\sigma_g = |-8\\pi^2D|\\frac{\\sigma_T}{T^3}$"
   ]
  },
  {
   "cell_type": "code",
   "execution_count": 10,
   "metadata": {},
   "outputs": [
    {
     "name": "stdout",
     "output_type": "stream",
     "text": [
      "g:  9.7849 ± 0.0186 ms-2\n"
     ]
    }
   ],
   "source": [
    "from numpy import pi as PI\n",
    "import numpy as np\n",
    "from interpolazione3 import final_val\n",
    "\n",
    "# perido ottenuto con formula\n",
    "T,sigmaT = 2.0026, 0.0019\n",
    "\n",
    "D = 0.994 # distanza dei coltelli del pendolo (m)\n",
    "\n",
    "def g_T(T,sT): # g(T)\n",
    "    g = 4* PI**2 * D / T**2 # calcolo g\n",
    "    sg = 8* PI**2 * D * sT/T**3 # calcolo sigma g\n",
    "    return np.round(g,4),np.round(sg,4)\n",
    "\n",
    "g1,sg1 = g_T(T,sigmaT) # misura di g\n",
    "print('g: ',final_val(g1,sg1,decimals=4,udm='ms-2'))"
   ]
  },
  {
   "attachments": {},
   "cell_type": "markdown",
   "metadata": {},
   "source": [
    "## STIMA DI G CON CADUTA LIBERA\n",
    "\n",
    "vedi _caduta_libera.ipynb_"
   ]
  },
  {
   "cell_type": "code",
   "execution_count": 11,
   "metadata": {},
   "outputs": [],
   "source": [
    "g2,sg2 = 9.8942, 0.0488"
   ]
  },
  {
   "attachments": {},
   "cell_type": "markdown",
   "metadata": {},
   "source": [
    "# CONFRONTO METODI SPERIMENTALI"
   ]
  },
  {
   "cell_type": "code",
   "execution_count": 12,
   "metadata": {},
   "outputs": [
    {
     "ename": "ValueError",
     "evalue": "\n\\g Milano\n^\nUnknown symbol: \\g, found '\\'  (at char 0), (line:1, col:1)",
     "output_type": "error",
     "traceback": [
      "\u001b[0;31m---------------------------------------------------------------------------\u001b[0m",
      "\u001b[0;31mParseFatalException\u001b[0m                       Traceback (most recent call last)",
      "File \u001b[0;32m~/.local/lib/python3.10/site-packages/matplotlib/_mathtext.py:1983\u001b[0m, in \u001b[0;36mParser.parse\u001b[0;34m(self, s, fonts_object, fontsize, dpi)\u001b[0m\n\u001b[1;32m   1982\u001b[0m \u001b[39mtry\u001b[39;00m:\n\u001b[0;32m-> 1983\u001b[0m     result \u001b[39m=\u001b[39m \u001b[39mself\u001b[39;49m\u001b[39m.\u001b[39;49m_expression\u001b[39m.\u001b[39;49mparseString(s)\n\u001b[1;32m   1984\u001b[0m \u001b[39mexcept\u001b[39;00m ParseBaseException \u001b[39mas\u001b[39;00m err:\n",
      "File \u001b[0;32m/usr/lib/python3/dist-packages/pyparsing.py:1955\u001b[0m, in \u001b[0;36mParserElement.parseString\u001b[0;34m(self, instring, parseAll)\u001b[0m\n\u001b[1;32m   1954\u001b[0m             exc\u001b[39m.\u001b[39m__traceback__ \u001b[39m=\u001b[39m \u001b[39mself\u001b[39m\u001b[39m.\u001b[39m_trim_traceback(exc\u001b[39m.\u001b[39m__traceback__)\n\u001b[0;32m-> 1955\u001b[0m         \u001b[39mraise\u001b[39;00m exc\n\u001b[1;32m   1956\u001b[0m \u001b[39melse\u001b[39;00m:\n",
      "File \u001b[0;32m~/.local/lib/python3.10/site-packages/matplotlib/_mathtext.py:2116\u001b[0m, in \u001b[0;36mParser.unknown_symbol\u001b[0;34m(self, s, loc, toks)\u001b[0m\n\u001b[1;32m   2115\u001b[0m \u001b[39mdef\u001b[39;00m \u001b[39munknown_symbol\u001b[39m(\u001b[39mself\u001b[39m, s, loc, toks):\n\u001b[0;32m-> 2116\u001b[0m     \u001b[39mraise\u001b[39;00m ParseFatalException(s, loc, \u001b[39mf\u001b[39m\u001b[39m\"\u001b[39m\u001b[39mUnknown symbol: \u001b[39m\u001b[39m{\u001b[39;00mtoks[\u001b[39m'\u001b[39m\u001b[39mname\u001b[39m\u001b[39m'\u001b[39m]\u001b[39m}\u001b[39;00m\u001b[39m\"\u001b[39m)\n",
      "\u001b[0;31mParseFatalException\u001b[0m: Unknown symbol: \\g, found '\\'  (at char 0), (line:1, col:1)",
      "\nThe above exception was the direct cause of the following exception:\n",
      "\u001b[0;31mValueError\u001b[0m                                Traceback (most recent call last)",
      "File \u001b[0;32m~/.local/lib/python3.10/site-packages/IPython/core/formatters.py:338\u001b[0m, in \u001b[0;36mBaseFormatter.__call__\u001b[0;34m(self, obj)\u001b[0m\n\u001b[1;32m    336\u001b[0m     \u001b[39mpass\u001b[39;00m\n\u001b[1;32m    337\u001b[0m \u001b[39melse\u001b[39;00m:\n\u001b[0;32m--> 338\u001b[0m     \u001b[39mreturn\u001b[39;00m printer(obj)\n\u001b[1;32m    339\u001b[0m \u001b[39m# Finally look for special method names\u001b[39;00m\n\u001b[1;32m    340\u001b[0m method \u001b[39m=\u001b[39m get_real_method(obj, \u001b[39mself\u001b[39m\u001b[39m.\u001b[39mprint_method)\n",
      "File \u001b[0;32m~/.local/lib/python3.10/site-packages/IPython/core/pylabtools.py:152\u001b[0m, in \u001b[0;36mprint_figure\u001b[0;34m(fig, fmt, bbox_inches, base64, **kwargs)\u001b[0m\n\u001b[1;32m    149\u001b[0m     \u001b[39mfrom\u001b[39;00m \u001b[39mmatplotlib\u001b[39;00m\u001b[39m.\u001b[39;00m\u001b[39mbackend_bases\u001b[39;00m \u001b[39mimport\u001b[39;00m FigureCanvasBase\n\u001b[1;32m    150\u001b[0m     FigureCanvasBase(fig)\n\u001b[0;32m--> 152\u001b[0m fig\u001b[39m.\u001b[39;49mcanvas\u001b[39m.\u001b[39;49mprint_figure(bytes_io, \u001b[39m*\u001b[39;49m\u001b[39m*\u001b[39;49mkw)\n\u001b[1;32m    153\u001b[0m data \u001b[39m=\u001b[39m bytes_io\u001b[39m.\u001b[39mgetvalue()\n\u001b[1;32m    154\u001b[0m \u001b[39mif\u001b[39;00m fmt \u001b[39m==\u001b[39m \u001b[39m'\u001b[39m\u001b[39msvg\u001b[39m\u001b[39m'\u001b[39m:\n",
      "File \u001b[0;32m~/.local/lib/python3.10/site-packages/matplotlib/backend_bases.py:2314\u001b[0m, in \u001b[0;36mFigureCanvasBase.print_figure\u001b[0;34m(self, filename, dpi, facecolor, edgecolor, orientation, format, bbox_inches, pad_inches, bbox_extra_artists, backend, **kwargs)\u001b[0m\n\u001b[1;32m   2308\u001b[0m     renderer \u001b[39m=\u001b[39m _get_renderer(\n\u001b[1;32m   2309\u001b[0m         \u001b[39mself\u001b[39m\u001b[39m.\u001b[39mfigure,\n\u001b[1;32m   2310\u001b[0m         functools\u001b[39m.\u001b[39mpartial(\n\u001b[1;32m   2311\u001b[0m             print_method, orientation\u001b[39m=\u001b[39morientation)\n\u001b[1;32m   2312\u001b[0m     )\n\u001b[1;32m   2313\u001b[0m     \u001b[39mwith\u001b[39;00m \u001b[39mgetattr\u001b[39m(renderer, \u001b[39m\"\u001b[39m\u001b[39m_draw_disabled\u001b[39m\u001b[39m\"\u001b[39m, nullcontext)():\n\u001b[0;32m-> 2314\u001b[0m         \u001b[39mself\u001b[39;49m\u001b[39m.\u001b[39;49mfigure\u001b[39m.\u001b[39;49mdraw(renderer)\n\u001b[1;32m   2316\u001b[0m \u001b[39mif\u001b[39;00m bbox_inches:\n\u001b[1;32m   2317\u001b[0m     \u001b[39mif\u001b[39;00m bbox_inches \u001b[39m==\u001b[39m \u001b[39m\"\u001b[39m\u001b[39mtight\u001b[39m\u001b[39m\"\u001b[39m:\n",
      "File \u001b[0;32m~/.local/lib/python3.10/site-packages/matplotlib/artist.py:74\u001b[0m, in \u001b[0;36m_finalize_rasterization.<locals>.draw_wrapper\u001b[0;34m(artist, renderer, *args, **kwargs)\u001b[0m\n\u001b[1;32m     72\u001b[0m \u001b[39m@wraps\u001b[39m(draw)\n\u001b[1;32m     73\u001b[0m \u001b[39mdef\u001b[39;00m \u001b[39mdraw_wrapper\u001b[39m(artist, renderer, \u001b[39m*\u001b[39margs, \u001b[39m*\u001b[39m\u001b[39m*\u001b[39mkwargs):\n\u001b[0;32m---> 74\u001b[0m     result \u001b[39m=\u001b[39m draw(artist, renderer, \u001b[39m*\u001b[39;49margs, \u001b[39m*\u001b[39;49m\u001b[39m*\u001b[39;49mkwargs)\n\u001b[1;32m     75\u001b[0m     \u001b[39mif\u001b[39;00m renderer\u001b[39m.\u001b[39m_rasterizing:\n\u001b[1;32m     76\u001b[0m         renderer\u001b[39m.\u001b[39mstop_rasterizing()\n",
      "File \u001b[0;32m~/.local/lib/python3.10/site-packages/matplotlib/artist.py:51\u001b[0m, in \u001b[0;36mallow_rasterization.<locals>.draw_wrapper\u001b[0;34m(artist, renderer)\u001b[0m\n\u001b[1;32m     48\u001b[0m     \u001b[39mif\u001b[39;00m artist\u001b[39m.\u001b[39mget_agg_filter() \u001b[39mis\u001b[39;00m \u001b[39mnot\u001b[39;00m \u001b[39mNone\u001b[39;00m:\n\u001b[1;32m     49\u001b[0m         renderer\u001b[39m.\u001b[39mstart_filter()\n\u001b[0;32m---> 51\u001b[0m     \u001b[39mreturn\u001b[39;00m draw(artist, renderer)\n\u001b[1;32m     52\u001b[0m \u001b[39mfinally\u001b[39;00m:\n\u001b[1;32m     53\u001b[0m     \u001b[39mif\u001b[39;00m artist\u001b[39m.\u001b[39mget_agg_filter() \u001b[39mis\u001b[39;00m \u001b[39mnot\u001b[39;00m \u001b[39mNone\u001b[39;00m:\n",
      "File \u001b[0;32m~/.local/lib/python3.10/site-packages/matplotlib/figure.py:3082\u001b[0m, in \u001b[0;36mFigure.draw\u001b[0;34m(self, renderer)\u001b[0m\n\u001b[1;32m   3079\u001b[0m         \u001b[39m# ValueError can occur when resizing a window.\u001b[39;00m\n\u001b[1;32m   3081\u001b[0m \u001b[39mself\u001b[39m\u001b[39m.\u001b[39mpatch\u001b[39m.\u001b[39mdraw(renderer)\n\u001b[0;32m-> 3082\u001b[0m mimage\u001b[39m.\u001b[39;49m_draw_list_compositing_images(\n\u001b[1;32m   3083\u001b[0m     renderer, \u001b[39mself\u001b[39;49m, artists, \u001b[39mself\u001b[39;49m\u001b[39m.\u001b[39;49msuppressComposite)\n\u001b[1;32m   3085\u001b[0m \u001b[39mfor\u001b[39;00m sfig \u001b[39min\u001b[39;00m \u001b[39mself\u001b[39m\u001b[39m.\u001b[39msubfigs:\n\u001b[1;32m   3086\u001b[0m     sfig\u001b[39m.\u001b[39mdraw(renderer)\n",
      "File \u001b[0;32m~/.local/lib/python3.10/site-packages/matplotlib/image.py:131\u001b[0m, in \u001b[0;36m_draw_list_compositing_images\u001b[0;34m(renderer, parent, artists, suppress_composite)\u001b[0m\n\u001b[1;32m    129\u001b[0m \u001b[39mif\u001b[39;00m not_composite \u001b[39mor\u001b[39;00m \u001b[39mnot\u001b[39;00m has_images:\n\u001b[1;32m    130\u001b[0m     \u001b[39mfor\u001b[39;00m a \u001b[39min\u001b[39;00m artists:\n\u001b[0;32m--> 131\u001b[0m         a\u001b[39m.\u001b[39;49mdraw(renderer)\n\u001b[1;32m    132\u001b[0m \u001b[39melse\u001b[39;00m:\n\u001b[1;32m    133\u001b[0m     \u001b[39m# Composite any adjacent images together\u001b[39;00m\n\u001b[1;32m    134\u001b[0m     image_group \u001b[39m=\u001b[39m []\n",
      "File \u001b[0;32m~/.local/lib/python3.10/site-packages/matplotlib/artist.py:51\u001b[0m, in \u001b[0;36mallow_rasterization.<locals>.draw_wrapper\u001b[0;34m(artist, renderer)\u001b[0m\n\u001b[1;32m     48\u001b[0m     \u001b[39mif\u001b[39;00m artist\u001b[39m.\u001b[39mget_agg_filter() \u001b[39mis\u001b[39;00m \u001b[39mnot\u001b[39;00m \u001b[39mNone\u001b[39;00m:\n\u001b[1;32m     49\u001b[0m         renderer\u001b[39m.\u001b[39mstart_filter()\n\u001b[0;32m---> 51\u001b[0m     \u001b[39mreturn\u001b[39;00m draw(artist, renderer)\n\u001b[1;32m     52\u001b[0m \u001b[39mfinally\u001b[39;00m:\n\u001b[1;32m     53\u001b[0m     \u001b[39mif\u001b[39;00m artist\u001b[39m.\u001b[39mget_agg_filter() \u001b[39mis\u001b[39;00m \u001b[39mnot\u001b[39;00m \u001b[39mNone\u001b[39;00m:\n",
      "File \u001b[0;32m~/.local/lib/python3.10/site-packages/matplotlib/axes/_base.py:3100\u001b[0m, in \u001b[0;36m_AxesBase.draw\u001b[0;34m(self, renderer)\u001b[0m\n\u001b[1;32m   3097\u001b[0m         a\u001b[39m.\u001b[39mdraw(renderer)\n\u001b[1;32m   3098\u001b[0m     renderer\u001b[39m.\u001b[39mstop_rasterizing()\n\u001b[0;32m-> 3100\u001b[0m mimage\u001b[39m.\u001b[39;49m_draw_list_compositing_images(\n\u001b[1;32m   3101\u001b[0m     renderer, \u001b[39mself\u001b[39;49m, artists, \u001b[39mself\u001b[39;49m\u001b[39m.\u001b[39;49mfigure\u001b[39m.\u001b[39;49msuppressComposite)\n\u001b[1;32m   3103\u001b[0m renderer\u001b[39m.\u001b[39mclose_group(\u001b[39m'\u001b[39m\u001b[39maxes\u001b[39m\u001b[39m'\u001b[39m)\n\u001b[1;32m   3104\u001b[0m \u001b[39mself\u001b[39m\u001b[39m.\u001b[39mstale \u001b[39m=\u001b[39m \u001b[39mFalse\u001b[39;00m\n",
      "File \u001b[0;32m~/.local/lib/python3.10/site-packages/matplotlib/image.py:131\u001b[0m, in \u001b[0;36m_draw_list_compositing_images\u001b[0;34m(renderer, parent, artists, suppress_composite)\u001b[0m\n\u001b[1;32m    129\u001b[0m \u001b[39mif\u001b[39;00m not_composite \u001b[39mor\u001b[39;00m \u001b[39mnot\u001b[39;00m has_images:\n\u001b[1;32m    130\u001b[0m     \u001b[39mfor\u001b[39;00m a \u001b[39min\u001b[39;00m artists:\n\u001b[0;32m--> 131\u001b[0m         a\u001b[39m.\u001b[39;49mdraw(renderer)\n\u001b[1;32m    132\u001b[0m \u001b[39melse\u001b[39;00m:\n\u001b[1;32m    133\u001b[0m     \u001b[39m# Composite any adjacent images together\u001b[39;00m\n\u001b[1;32m    134\u001b[0m     image_group \u001b[39m=\u001b[39m []\n",
      "File \u001b[0;32m~/.local/lib/python3.10/site-packages/matplotlib/artist.py:51\u001b[0m, in \u001b[0;36mallow_rasterization.<locals>.draw_wrapper\u001b[0;34m(artist, renderer)\u001b[0m\n\u001b[1;32m     48\u001b[0m     \u001b[39mif\u001b[39;00m artist\u001b[39m.\u001b[39mget_agg_filter() \u001b[39mis\u001b[39;00m \u001b[39mnot\u001b[39;00m \u001b[39mNone\u001b[39;00m:\n\u001b[1;32m     49\u001b[0m         renderer\u001b[39m.\u001b[39mstart_filter()\n\u001b[0;32m---> 51\u001b[0m     \u001b[39mreturn\u001b[39;00m draw(artist, renderer)\n\u001b[1;32m     52\u001b[0m \u001b[39mfinally\u001b[39;00m:\n\u001b[1;32m     53\u001b[0m     \u001b[39mif\u001b[39;00m artist\u001b[39m.\u001b[39mget_agg_filter() \u001b[39mis\u001b[39;00m \u001b[39mnot\u001b[39;00m \u001b[39mNone\u001b[39;00m:\n",
      "File \u001b[0;32m~/.local/lib/python3.10/site-packages/matplotlib/legend.py:641\u001b[0m, in \u001b[0;36mLegend.draw\u001b[0;34m(self, renderer)\u001b[0m\n\u001b[1;32m    637\u001b[0m     \u001b[39mself\u001b[39m\u001b[39m.\u001b[39m_legend_box\u001b[39m.\u001b[39mset_width(\u001b[39mself\u001b[39m\u001b[39m.\u001b[39mget_bbox_to_anchor()\u001b[39m.\u001b[39mwidth \u001b[39m-\u001b[39m pad)\n\u001b[1;32m    639\u001b[0m \u001b[39m# update the location and size of the legend. This needs to\u001b[39;00m\n\u001b[1;32m    640\u001b[0m \u001b[39m# be done in any case to clip the figure right.\u001b[39;00m\n\u001b[0;32m--> 641\u001b[0m bbox \u001b[39m=\u001b[39m \u001b[39mself\u001b[39;49m\u001b[39m.\u001b[39;49m_legend_box\u001b[39m.\u001b[39;49mget_window_extent(renderer)\n\u001b[1;32m    642\u001b[0m \u001b[39mself\u001b[39m\u001b[39m.\u001b[39mlegendPatch\u001b[39m.\u001b[39mset_bounds(bbox\u001b[39m.\u001b[39mbounds)\n\u001b[1;32m    643\u001b[0m \u001b[39mself\u001b[39m\u001b[39m.\u001b[39mlegendPatch\u001b[39m.\u001b[39mset_mutation_scale(fontsize)\n",
      "File \u001b[0;32m~/.local/lib/python3.10/site-packages/matplotlib/offsetbox.py:353\u001b[0m, in \u001b[0;36mOffsetBox.get_window_extent\u001b[0;34m(self, renderer)\u001b[0m\n\u001b[1;32m    351\u001b[0m \u001b[39mif\u001b[39;00m renderer \u001b[39mis\u001b[39;00m \u001b[39mNone\u001b[39;00m:\n\u001b[1;32m    352\u001b[0m     renderer \u001b[39m=\u001b[39m \u001b[39mself\u001b[39m\u001b[39m.\u001b[39mfigure\u001b[39m.\u001b[39m_get_renderer()\n\u001b[0;32m--> 353\u001b[0m w, h, xd, yd, offsets \u001b[39m=\u001b[39m \u001b[39mself\u001b[39;49m\u001b[39m.\u001b[39;49mget_extent_offsets(renderer)\n\u001b[1;32m    354\u001b[0m px, py \u001b[39m=\u001b[39m \u001b[39mself\u001b[39m\u001b[39m.\u001b[39mget_offset(w, h, xd, yd, renderer)\n\u001b[1;32m    355\u001b[0m \u001b[39mreturn\u001b[39;00m mtransforms\u001b[39m.\u001b[39mBbox\u001b[39m.\u001b[39mfrom_bounds(px \u001b[39m-\u001b[39m xd, py \u001b[39m-\u001b[39m yd, w, h)\n",
      "File \u001b[0;32m~/.local/lib/python3.10/site-packages/matplotlib/offsetbox.py:435\u001b[0m, in \u001b[0;36mVPacker.get_extent_offsets\u001b[0;34m(self, renderer)\u001b[0m\n\u001b[1;32m    432\u001b[0m         \u001b[39mif\u001b[39;00m \u001b[39misinstance\u001b[39m(c, PackerBase) \u001b[39mand\u001b[39;00m c\u001b[39m.\u001b[39mmode \u001b[39m==\u001b[39m \u001b[39m\"\u001b[39m\u001b[39mexpand\u001b[39m\u001b[39m\"\u001b[39m:\n\u001b[1;32m    433\u001b[0m             c\u001b[39m.\u001b[39mset_width(\u001b[39mself\u001b[39m\u001b[39m.\u001b[39mwidth)\n\u001b[0;32m--> 435\u001b[0m whd_list \u001b[39m=\u001b[39m [c\u001b[39m.\u001b[39mget_extent(renderer)\n\u001b[1;32m    436\u001b[0m             \u001b[39mfor\u001b[39;00m c \u001b[39min\u001b[39;00m \u001b[39mself\u001b[39m\u001b[39m.\u001b[39mget_visible_children()]\n\u001b[1;32m    437\u001b[0m whd_list \u001b[39m=\u001b[39m [(w, h, xd, (h \u001b[39m-\u001b[39m yd)) \u001b[39mfor\u001b[39;00m w, h, xd, yd \u001b[39min\u001b[39;00m whd_list]\n\u001b[1;32m    439\u001b[0m wd_list \u001b[39m=\u001b[39m [(w, xd) \u001b[39mfor\u001b[39;00m w, h, xd, yd \u001b[39min\u001b[39;00m whd_list]\n",
      "File \u001b[0;32m~/.local/lib/python3.10/site-packages/matplotlib/offsetbox.py:435\u001b[0m, in \u001b[0;36m<listcomp>\u001b[0;34m(.0)\u001b[0m\n\u001b[1;32m    432\u001b[0m         \u001b[39mif\u001b[39;00m \u001b[39misinstance\u001b[39m(c, PackerBase) \u001b[39mand\u001b[39;00m c\u001b[39m.\u001b[39mmode \u001b[39m==\u001b[39m \u001b[39m\"\u001b[39m\u001b[39mexpand\u001b[39m\u001b[39m\"\u001b[39m:\n\u001b[1;32m    433\u001b[0m             c\u001b[39m.\u001b[39mset_width(\u001b[39mself\u001b[39m\u001b[39m.\u001b[39mwidth)\n\u001b[0;32m--> 435\u001b[0m whd_list \u001b[39m=\u001b[39m [c\u001b[39m.\u001b[39;49mget_extent(renderer)\n\u001b[1;32m    436\u001b[0m             \u001b[39mfor\u001b[39;00m c \u001b[39min\u001b[39;00m \u001b[39mself\u001b[39m\u001b[39m.\u001b[39mget_visible_children()]\n\u001b[1;32m    437\u001b[0m whd_list \u001b[39m=\u001b[39m [(w, h, xd, (h \u001b[39m-\u001b[39m yd)) \u001b[39mfor\u001b[39;00m w, h, xd, yd \u001b[39min\u001b[39;00m whd_list]\n\u001b[1;32m    439\u001b[0m wd_list \u001b[39m=\u001b[39m [(w, xd) \u001b[39mfor\u001b[39;00m w, h, xd, yd \u001b[39min\u001b[39;00m whd_list]\n",
      "File \u001b[0;32m~/.local/lib/python3.10/site-packages/matplotlib/offsetbox.py:346\u001b[0m, in \u001b[0;36mOffsetBox.get_extent\u001b[0;34m(self, renderer)\u001b[0m\n\u001b[1;32m    344\u001b[0m \u001b[39mdef\u001b[39;00m \u001b[39mget_extent\u001b[39m(\u001b[39mself\u001b[39m, renderer):\n\u001b[1;32m    345\u001b[0m \u001b[39m    \u001b[39m\u001b[39m\"\"\"Return a tuple ``width, height, xdescent, ydescent`` of the box.\"\"\"\u001b[39;00m\n\u001b[0;32m--> 346\u001b[0m     w, h, xd, yd, offsets \u001b[39m=\u001b[39m \u001b[39mself\u001b[39;49m\u001b[39m.\u001b[39;49mget_extent_offsets(renderer)\n\u001b[1;32m    347\u001b[0m     \u001b[39mreturn\u001b[39;00m w, h, xd, yd\n",
      "File \u001b[0;32m~/.local/lib/python3.10/site-packages/matplotlib/offsetbox.py:471\u001b[0m, in \u001b[0;36mHPacker.get_extent_offsets\u001b[0;34m(self, renderer)\u001b[0m\n\u001b[1;32m    468\u001b[0m pad \u001b[39m=\u001b[39m \u001b[39mself\u001b[39m\u001b[39m.\u001b[39mpad \u001b[39m*\u001b[39m dpicor\n\u001b[1;32m    469\u001b[0m sep \u001b[39m=\u001b[39m \u001b[39mself\u001b[39m\u001b[39m.\u001b[39msep \u001b[39m*\u001b[39m dpicor\n\u001b[0;32m--> 471\u001b[0m whd_list \u001b[39m=\u001b[39m [c\u001b[39m.\u001b[39mget_extent(renderer)\n\u001b[1;32m    472\u001b[0m             \u001b[39mfor\u001b[39;00m c \u001b[39min\u001b[39;00m \u001b[39mself\u001b[39m\u001b[39m.\u001b[39mget_visible_children()]\n\u001b[1;32m    474\u001b[0m \u001b[39mif\u001b[39;00m \u001b[39mnot\u001b[39;00m whd_list:\n\u001b[1;32m    475\u001b[0m     \u001b[39mreturn\u001b[39;00m \u001b[39m2\u001b[39m \u001b[39m*\u001b[39m pad, \u001b[39m2\u001b[39m \u001b[39m*\u001b[39m pad, pad, pad, []\n",
      "File \u001b[0;32m~/.local/lib/python3.10/site-packages/matplotlib/offsetbox.py:471\u001b[0m, in \u001b[0;36m<listcomp>\u001b[0;34m(.0)\u001b[0m\n\u001b[1;32m    468\u001b[0m pad \u001b[39m=\u001b[39m \u001b[39mself\u001b[39m\u001b[39m.\u001b[39mpad \u001b[39m*\u001b[39m dpicor\n\u001b[1;32m    469\u001b[0m sep \u001b[39m=\u001b[39m \u001b[39mself\u001b[39m\u001b[39m.\u001b[39msep \u001b[39m*\u001b[39m dpicor\n\u001b[0;32m--> 471\u001b[0m whd_list \u001b[39m=\u001b[39m [c\u001b[39m.\u001b[39;49mget_extent(renderer)\n\u001b[1;32m    472\u001b[0m             \u001b[39mfor\u001b[39;00m c \u001b[39min\u001b[39;00m \u001b[39mself\u001b[39m\u001b[39m.\u001b[39mget_visible_children()]\n\u001b[1;32m    474\u001b[0m \u001b[39mif\u001b[39;00m \u001b[39mnot\u001b[39;00m whd_list:\n\u001b[1;32m    475\u001b[0m     \u001b[39mreturn\u001b[39;00m \u001b[39m2\u001b[39m \u001b[39m*\u001b[39m pad, \u001b[39m2\u001b[39m \u001b[39m*\u001b[39m pad, pad, pad, []\n",
      "File \u001b[0;32m~/.local/lib/python3.10/site-packages/matplotlib/offsetbox.py:346\u001b[0m, in \u001b[0;36mOffsetBox.get_extent\u001b[0;34m(self, renderer)\u001b[0m\n\u001b[1;32m    344\u001b[0m \u001b[39mdef\u001b[39;00m \u001b[39mget_extent\u001b[39m(\u001b[39mself\u001b[39m, renderer):\n\u001b[1;32m    345\u001b[0m \u001b[39m    \u001b[39m\u001b[39m\"\"\"Return a tuple ``width, height, xdescent, ydescent`` of the box.\"\"\"\u001b[39;00m\n\u001b[0;32m--> 346\u001b[0m     w, h, xd, yd, offsets \u001b[39m=\u001b[39m \u001b[39mself\u001b[39;49m\u001b[39m.\u001b[39;49mget_extent_offsets(renderer)\n\u001b[1;32m    347\u001b[0m     \u001b[39mreturn\u001b[39;00m w, h, xd, yd\n",
      "File \u001b[0;32m~/.local/lib/python3.10/site-packages/matplotlib/offsetbox.py:435\u001b[0m, in \u001b[0;36mVPacker.get_extent_offsets\u001b[0;34m(self, renderer)\u001b[0m\n\u001b[1;32m    432\u001b[0m         \u001b[39mif\u001b[39;00m \u001b[39misinstance\u001b[39m(c, PackerBase) \u001b[39mand\u001b[39;00m c\u001b[39m.\u001b[39mmode \u001b[39m==\u001b[39m \u001b[39m\"\u001b[39m\u001b[39mexpand\u001b[39m\u001b[39m\"\u001b[39m:\n\u001b[1;32m    433\u001b[0m             c\u001b[39m.\u001b[39mset_width(\u001b[39mself\u001b[39m\u001b[39m.\u001b[39mwidth)\n\u001b[0;32m--> 435\u001b[0m whd_list \u001b[39m=\u001b[39m [c\u001b[39m.\u001b[39mget_extent(renderer)\n\u001b[1;32m    436\u001b[0m             \u001b[39mfor\u001b[39;00m c \u001b[39min\u001b[39;00m \u001b[39mself\u001b[39m\u001b[39m.\u001b[39mget_visible_children()]\n\u001b[1;32m    437\u001b[0m whd_list \u001b[39m=\u001b[39m [(w, h, xd, (h \u001b[39m-\u001b[39m yd)) \u001b[39mfor\u001b[39;00m w, h, xd, yd \u001b[39min\u001b[39;00m whd_list]\n\u001b[1;32m    439\u001b[0m wd_list \u001b[39m=\u001b[39m [(w, xd) \u001b[39mfor\u001b[39;00m w, h, xd, yd \u001b[39min\u001b[39;00m whd_list]\n",
      "File \u001b[0;32m~/.local/lib/python3.10/site-packages/matplotlib/offsetbox.py:435\u001b[0m, in \u001b[0;36m<listcomp>\u001b[0;34m(.0)\u001b[0m\n\u001b[1;32m    432\u001b[0m         \u001b[39mif\u001b[39;00m \u001b[39misinstance\u001b[39m(c, PackerBase) \u001b[39mand\u001b[39;00m c\u001b[39m.\u001b[39mmode \u001b[39m==\u001b[39m \u001b[39m\"\u001b[39m\u001b[39mexpand\u001b[39m\u001b[39m\"\u001b[39m:\n\u001b[1;32m    433\u001b[0m             c\u001b[39m.\u001b[39mset_width(\u001b[39mself\u001b[39m\u001b[39m.\u001b[39mwidth)\n\u001b[0;32m--> 435\u001b[0m whd_list \u001b[39m=\u001b[39m [c\u001b[39m.\u001b[39;49mget_extent(renderer)\n\u001b[1;32m    436\u001b[0m             \u001b[39mfor\u001b[39;00m c \u001b[39min\u001b[39;00m \u001b[39mself\u001b[39m\u001b[39m.\u001b[39mget_visible_children()]\n\u001b[1;32m    437\u001b[0m whd_list \u001b[39m=\u001b[39m [(w, h, xd, (h \u001b[39m-\u001b[39m yd)) \u001b[39mfor\u001b[39;00m w, h, xd, yd \u001b[39min\u001b[39;00m whd_list]\n\u001b[1;32m    439\u001b[0m wd_list \u001b[39m=\u001b[39m [(w, xd) \u001b[39mfor\u001b[39;00m w, h, xd, yd \u001b[39min\u001b[39;00m whd_list]\n",
      "File \u001b[0;32m~/.local/lib/python3.10/site-packages/matplotlib/offsetbox.py:346\u001b[0m, in \u001b[0;36mOffsetBox.get_extent\u001b[0;34m(self, renderer)\u001b[0m\n\u001b[1;32m    344\u001b[0m \u001b[39mdef\u001b[39;00m \u001b[39mget_extent\u001b[39m(\u001b[39mself\u001b[39m, renderer):\n\u001b[1;32m    345\u001b[0m \u001b[39m    \u001b[39m\u001b[39m\"\"\"Return a tuple ``width, height, xdescent, ydescent`` of the box.\"\"\"\u001b[39;00m\n\u001b[0;32m--> 346\u001b[0m     w, h, xd, yd, offsets \u001b[39m=\u001b[39m \u001b[39mself\u001b[39;49m\u001b[39m.\u001b[39;49mget_extent_offsets(renderer)\n\u001b[1;32m    347\u001b[0m     \u001b[39mreturn\u001b[39;00m w, h, xd, yd\n",
      "File \u001b[0;32m~/.local/lib/python3.10/site-packages/matplotlib/offsetbox.py:471\u001b[0m, in \u001b[0;36mHPacker.get_extent_offsets\u001b[0;34m(self, renderer)\u001b[0m\n\u001b[1;32m    468\u001b[0m pad \u001b[39m=\u001b[39m \u001b[39mself\u001b[39m\u001b[39m.\u001b[39mpad \u001b[39m*\u001b[39m dpicor\n\u001b[1;32m    469\u001b[0m sep \u001b[39m=\u001b[39m \u001b[39mself\u001b[39m\u001b[39m.\u001b[39msep \u001b[39m*\u001b[39m dpicor\n\u001b[0;32m--> 471\u001b[0m whd_list \u001b[39m=\u001b[39m [c\u001b[39m.\u001b[39mget_extent(renderer)\n\u001b[1;32m    472\u001b[0m             \u001b[39mfor\u001b[39;00m c \u001b[39min\u001b[39;00m \u001b[39mself\u001b[39m\u001b[39m.\u001b[39mget_visible_children()]\n\u001b[1;32m    474\u001b[0m \u001b[39mif\u001b[39;00m \u001b[39mnot\u001b[39;00m whd_list:\n\u001b[1;32m    475\u001b[0m     \u001b[39mreturn\u001b[39;00m \u001b[39m2\u001b[39m \u001b[39m*\u001b[39m pad, \u001b[39m2\u001b[39m \u001b[39m*\u001b[39m pad, pad, pad, []\n",
      "File \u001b[0;32m~/.local/lib/python3.10/site-packages/matplotlib/offsetbox.py:471\u001b[0m, in \u001b[0;36m<listcomp>\u001b[0;34m(.0)\u001b[0m\n\u001b[1;32m    468\u001b[0m pad \u001b[39m=\u001b[39m \u001b[39mself\u001b[39m\u001b[39m.\u001b[39mpad \u001b[39m*\u001b[39m dpicor\n\u001b[1;32m    469\u001b[0m sep \u001b[39m=\u001b[39m \u001b[39mself\u001b[39m\u001b[39m.\u001b[39msep \u001b[39m*\u001b[39m dpicor\n\u001b[0;32m--> 471\u001b[0m whd_list \u001b[39m=\u001b[39m [c\u001b[39m.\u001b[39;49mget_extent(renderer)\n\u001b[1;32m    472\u001b[0m             \u001b[39mfor\u001b[39;00m c \u001b[39min\u001b[39;00m \u001b[39mself\u001b[39m\u001b[39m.\u001b[39mget_visible_children()]\n\u001b[1;32m    474\u001b[0m \u001b[39mif\u001b[39;00m \u001b[39mnot\u001b[39;00m whd_list:\n\u001b[1;32m    475\u001b[0m     \u001b[39mreturn\u001b[39;00m \u001b[39m2\u001b[39m \u001b[39m*\u001b[39m pad, \u001b[39m2\u001b[39m \u001b[39m*\u001b[39m pad, pad, pad, []\n",
      "File \u001b[0;32m~/.local/lib/python3.10/site-packages/matplotlib/offsetbox.py:789\u001b[0m, in \u001b[0;36mTextArea.get_extent\u001b[0;34m(self, renderer)\u001b[0m\n\u001b[1;32m    784\u001b[0m \u001b[39mdef\u001b[39;00m \u001b[39mget_extent\u001b[39m(\u001b[39mself\u001b[39m, renderer):\n\u001b[1;32m    785\u001b[0m     _, h_, d_ \u001b[39m=\u001b[39m renderer\u001b[39m.\u001b[39mget_text_width_height_descent(\n\u001b[1;32m    786\u001b[0m         \u001b[39m\"\u001b[39m\u001b[39mlp\u001b[39m\u001b[39m\"\u001b[39m, \u001b[39mself\u001b[39m\u001b[39m.\u001b[39m_text\u001b[39m.\u001b[39m_fontproperties,\n\u001b[1;32m    787\u001b[0m         ismath\u001b[39m=\u001b[39m\u001b[39m\"\u001b[39m\u001b[39mTeX\u001b[39m\u001b[39m\"\u001b[39m \u001b[39mif\u001b[39;00m \u001b[39mself\u001b[39m\u001b[39m.\u001b[39m_text\u001b[39m.\u001b[39mget_usetex() \u001b[39melse\u001b[39;00m \u001b[39mFalse\u001b[39;00m)\n\u001b[0;32m--> 789\u001b[0m     bbox, info, yd \u001b[39m=\u001b[39m \u001b[39mself\u001b[39;49m\u001b[39m.\u001b[39;49m_text\u001b[39m.\u001b[39;49m_get_layout(renderer)\n\u001b[1;32m    790\u001b[0m     w, h \u001b[39m=\u001b[39m bbox\u001b[39m.\u001b[39msize\n\u001b[1;32m    792\u001b[0m     \u001b[39mself\u001b[39m\u001b[39m.\u001b[39m_baseline_transform\u001b[39m.\u001b[39mclear()\n",
      "File \u001b[0;32m~/.local/lib/python3.10/site-packages/matplotlib/text.py:321\u001b[0m, in \u001b[0;36mText._get_layout\u001b[0;34m(self, renderer)\u001b[0m\n\u001b[1;32m    319\u001b[0m clean_line, ismath \u001b[39m=\u001b[39m \u001b[39mself\u001b[39m\u001b[39m.\u001b[39m_preprocess_math(line)\n\u001b[1;32m    320\u001b[0m \u001b[39mif\u001b[39;00m clean_line:\n\u001b[0;32m--> 321\u001b[0m     w, h, d \u001b[39m=\u001b[39m _get_text_metrics_with_cache(\n\u001b[1;32m    322\u001b[0m         renderer, clean_line, \u001b[39mself\u001b[39;49m\u001b[39m.\u001b[39;49m_fontproperties,\n\u001b[1;32m    323\u001b[0m         ismath\u001b[39m=\u001b[39;49mismath, dpi\u001b[39m=\u001b[39;49m\u001b[39mself\u001b[39;49m\u001b[39m.\u001b[39;49mfigure\u001b[39m.\u001b[39;49mdpi)\n\u001b[1;32m    324\u001b[0m \u001b[39melse\u001b[39;00m:\n\u001b[1;32m    325\u001b[0m     w \u001b[39m=\u001b[39m h \u001b[39m=\u001b[39m d \u001b[39m=\u001b[39m \u001b[39m0\u001b[39m\n",
      "File \u001b[0;32m~/.local/lib/python3.10/site-packages/matplotlib/text.py:97\u001b[0m, in \u001b[0;36m_get_text_metrics_with_cache\u001b[0;34m(renderer, text, fontprop, ismath, dpi)\u001b[0m\n\u001b[1;32m     94\u001b[0m \u001b[39m\u001b[39m\u001b[39m\"\"\"Call ``renderer.get_text_width_height_descent``, caching the results.\"\"\"\u001b[39;00m\n\u001b[1;32m     95\u001b[0m \u001b[39m# Cached based on a copy of fontprop so that later in-place mutations of\u001b[39;00m\n\u001b[1;32m     96\u001b[0m \u001b[39m# the passed-in argument do not mess up the cache.\u001b[39;00m\n\u001b[0;32m---> 97\u001b[0m \u001b[39mreturn\u001b[39;00m _get_text_metrics_with_cache_impl(\n\u001b[1;32m     98\u001b[0m     weakref\u001b[39m.\u001b[39;49mref(renderer), text, fontprop\u001b[39m.\u001b[39;49mcopy(), ismath, dpi)\n",
      "File \u001b[0;32m~/.local/lib/python3.10/site-packages/matplotlib/text.py:105\u001b[0m, in \u001b[0;36m_get_text_metrics_with_cache_impl\u001b[0;34m(renderer_ref, text, fontprop, ismath, dpi)\u001b[0m\n\u001b[1;32m    101\u001b[0m \u001b[39m@functools\u001b[39m\u001b[39m.\u001b[39mlru_cache(\u001b[39m4096\u001b[39m)\n\u001b[1;32m    102\u001b[0m \u001b[39mdef\u001b[39;00m \u001b[39m_get_text_metrics_with_cache_impl\u001b[39m(\n\u001b[1;32m    103\u001b[0m         renderer_ref, text, fontprop, ismath, dpi):\n\u001b[1;32m    104\u001b[0m     \u001b[39m# dpi is unused, but participates in cache invalidation (via the renderer).\u001b[39;00m\n\u001b[0;32m--> 105\u001b[0m     \u001b[39mreturn\u001b[39;00m renderer_ref()\u001b[39m.\u001b[39;49mget_text_width_height_descent(text, fontprop, ismath)\n",
      "File \u001b[0;32m~/.local/lib/python3.10/site-packages/matplotlib/backends/backend_agg.py:235\u001b[0m, in \u001b[0;36mRendererAgg.get_text_width_height_descent\u001b[0;34m(self, s, prop, ismath)\u001b[0m\n\u001b[1;32m    231\u001b[0m     \u001b[39mreturn\u001b[39;00m w, h, d\n\u001b[1;32m    233\u001b[0m \u001b[39mif\u001b[39;00m ismath:\n\u001b[1;32m    234\u001b[0m     ox, oy, width, height, descent, font_image \u001b[39m=\u001b[39m \\\n\u001b[0;32m--> 235\u001b[0m         \u001b[39mself\u001b[39;49m\u001b[39m.\u001b[39;49mmathtext_parser\u001b[39m.\u001b[39;49mparse(s, \u001b[39mself\u001b[39;49m\u001b[39m.\u001b[39;49mdpi, prop)\n\u001b[1;32m    236\u001b[0m     \u001b[39mreturn\u001b[39;00m width, height, descent\n\u001b[1;32m    238\u001b[0m font \u001b[39m=\u001b[39m \u001b[39mself\u001b[39m\u001b[39m.\u001b[39m_prepare_font(prop)\n",
      "File \u001b[0;32m~/.local/lib/python3.10/site-packages/matplotlib/mathtext.py:226\u001b[0m, in \u001b[0;36mMathTextParser.parse\u001b[0;34m(self, s, dpi, prop)\u001b[0m\n\u001b[1;32m    222\u001b[0m \u001b[39m# lru_cache can't decorate parse() directly because prop\u001b[39;00m\n\u001b[1;32m    223\u001b[0m \u001b[39m# is mutable; key the cache using an internal copy (see\u001b[39;00m\n\u001b[1;32m    224\u001b[0m \u001b[39m# text._get_text_metrics_with_cache for a similar case).\u001b[39;00m\n\u001b[1;32m    225\u001b[0m prop \u001b[39m=\u001b[39m prop\u001b[39m.\u001b[39mcopy() \u001b[39mif\u001b[39;00m prop \u001b[39mis\u001b[39;00m \u001b[39mnot\u001b[39;00m \u001b[39mNone\u001b[39;00m \u001b[39melse\u001b[39;00m \u001b[39mNone\u001b[39;00m\n\u001b[0;32m--> 226\u001b[0m \u001b[39mreturn\u001b[39;00m \u001b[39mself\u001b[39;49m\u001b[39m.\u001b[39;49m_parse_cached(s, dpi, prop)\n",
      "File \u001b[0;32m~/.local/lib/python3.10/site-packages/matplotlib/mathtext.py:247\u001b[0m, in \u001b[0;36mMathTextParser._parse_cached\u001b[0;34m(self, s, dpi, prop)\u001b[0m\n\u001b[1;32m    244\u001b[0m \u001b[39mif\u001b[39;00m \u001b[39mself\u001b[39m\u001b[39m.\u001b[39m_parser \u001b[39mis\u001b[39;00m \u001b[39mNone\u001b[39;00m:  \u001b[39m# Cache the parser globally.\u001b[39;00m\n\u001b[1;32m    245\u001b[0m     \u001b[39mself\u001b[39m\u001b[39m.\u001b[39m\u001b[39m__class__\u001b[39m\u001b[39m.\u001b[39m_parser \u001b[39m=\u001b[39m _mathtext\u001b[39m.\u001b[39mParser()\n\u001b[0;32m--> 247\u001b[0m box \u001b[39m=\u001b[39m \u001b[39mself\u001b[39;49m\u001b[39m.\u001b[39;49m_parser\u001b[39m.\u001b[39;49mparse(s, fontset, fontsize, dpi)\n\u001b[1;32m    248\u001b[0m output \u001b[39m=\u001b[39m _mathtext\u001b[39m.\u001b[39mship(box)\n\u001b[1;32m    249\u001b[0m \u001b[39mif\u001b[39;00m \u001b[39mself\u001b[39m\u001b[39m.\u001b[39m_output_type \u001b[39m==\u001b[39m \u001b[39m\"\u001b[39m\u001b[39mvector\u001b[39m\u001b[39m\"\u001b[39m:\n",
      "File \u001b[0;32m~/.local/lib/python3.10/site-packages/matplotlib/_mathtext.py:1985\u001b[0m, in \u001b[0;36mParser.parse\u001b[0;34m(self, s, fonts_object, fontsize, dpi)\u001b[0m\n\u001b[1;32m   1983\u001b[0m     result \u001b[39m=\u001b[39m \u001b[39mself\u001b[39m\u001b[39m.\u001b[39m_expression\u001b[39m.\u001b[39mparseString(s)\n\u001b[1;32m   1984\u001b[0m \u001b[39mexcept\u001b[39;00m ParseBaseException \u001b[39mas\u001b[39;00m err:\n\u001b[0;32m-> 1985\u001b[0m     \u001b[39mraise\u001b[39;00m \u001b[39mValueError\u001b[39;00m(\u001b[39m\"\u001b[39m\u001b[39m\\n\u001b[39;00m\u001b[39m\"\u001b[39m\u001b[39m.\u001b[39mjoin([\u001b[39m\"\u001b[39m\u001b[39m\"\u001b[39m,\n\u001b[1;32m   1986\u001b[0m                                 err\u001b[39m.\u001b[39mline,\n\u001b[1;32m   1987\u001b[0m                                 \u001b[39m\"\u001b[39m\u001b[39m \u001b[39m\u001b[39m\"\u001b[39m \u001b[39m*\u001b[39m (err\u001b[39m.\u001b[39mcolumn \u001b[39m-\u001b[39m \u001b[39m1\u001b[39m) \u001b[39m+\u001b[39m \u001b[39m\"\u001b[39m\u001b[39m^\u001b[39m\u001b[39m\"\u001b[39m,\n\u001b[1;32m   1988\u001b[0m                                 \u001b[39mstr\u001b[39m(err)])) \u001b[39mfrom\u001b[39;00m \u001b[39merr\u001b[39;00m\n\u001b[1;32m   1989\u001b[0m \u001b[39mself\u001b[39m\u001b[39m.\u001b[39m_state_stack \u001b[39m=\u001b[39m \u001b[39mNone\u001b[39;00m\n\u001b[1;32m   1990\u001b[0m \u001b[39mself\u001b[39m\u001b[39m.\u001b[39m_in_subscript_or_superscript \u001b[39m=\u001b[39m \u001b[39mFalse\u001b[39;00m\n",
      "\u001b[0;31mValueError\u001b[0m: \n\\g Milano\n^\nUnknown symbol: \\g, found '\\'  (at char 0), (line:1, col:1)"
     ]
    },
    {
     "data": {
      "text/plain": [
       "<Figure size 640x480 with 1 Axes>"
      ]
     },
     "metadata": {},
     "output_type": "display_data"
    },
    {
     "name": "stdout",
     "output_type": "stream",
     "text": [
      "Accordo in percentuale Kater: 28% >> 5%\n",
      "(distanza in sigma: 1.09)\n",
      "errore relativo percentuale: 0.2% << 5%\n",
      "\n",
      "Accordo in percentuale cadura libera: 6% >> 5%\n",
      "(distanza in sigma: 1.83)\n",
      "errore relativo percentuale: 0.49% << 5%\n",
      "\n"
     ]
    }
   ],
   "source": [
    "from interpolazione3 import probability_under_norm\n",
    "import matplotlib.pyplot as plt\n",
    "import scipy.stats as sc\n",
    "import numpy as np\n",
    "\n",
    "g_milano = 9.8051 # tabulata https://www.handelskammer.bz.it/it/servizi/regolazione-del-mercato/ufficio-metrico/metrologia-legale/titolari-strumenti/strumenti-pesare/zone-di-gravit%C3%A0-e-numero-divisioni\n",
    "\n",
    "plt.title('Accordo con valore atteso:\\n $g_{milano} = 9.8051 N Kg^{-1}$')\n",
    "\n",
    "x = np.linspace(min(g1-2*sg1,g2-2*sg2),max(g1+2*sg1,g2+2*sg2),1000)\n",
    "\n",
    "R = sc.norm.pdf(x,loc=g1,scale=sg1)\n",
    "plt.plot(x,R, color='red', label='pendolo di Kater')\n",
    "t = np.abs(g1 - g_milano) / sg1\n",
    "plt.fill_between(x= x,y1= R,where= (g1- t*sg1 < x)&(x < g1 + t*sg1),color= \"red\",alpha= 0.2,label='Probabilità Kater')\n",
    "plt.vlines(x=g1,ymin=0,ymax=max(R),linewidths=1.0,label=\"g1: {:.4f}\".format(g1), color='black',linestyle=\"--\")\n",
    "\n",
    "B = sc.norm.pdf(x,loc=g2,scale=sg2)\n",
    "plt.plot(x,B, color='blue', label='caduta libera')\n",
    "t = np.abs(g2 - g_milano) / sg2\n",
    "plt.fill_between(x= x,y1= B,where= (g2- t*sg2 < x)&(x < g2 + t*sg2),color= \"blue\",alpha= 0.2,label='Probabilità caduta libera')\n",
    "plt.vlines(x=g2,ymin=0,ymax=max(B),linewidths=1.0,label=\"g2: {:.4f}\".format(g2), color='black',linestyle=\"-.\")\n",
    "\n",
    "plt.vlines(x=g_milano,ymax=max(R),ymin=0,linewidths=2.0,label=\"$g_{Milano}$\"+f\": {g_milano}\", color='#FF6347',linestyle=\"dotted\")\n",
    "\n",
    "plt.xticks([g1,g2,g_milano],rotation=45)\n",
    "plt.yticks([])\n",
    "plt.legend()\n",
    "plt.show()\n",
    "\n",
    "p = (1-probability_under_norm(g1,sg1,g_milano))*100\n",
    "print(f'Accordo in percentuale Kater: {int(p)}% >> 5%')\n",
    "print(f'(distanza in sigma: {np.round(np.abs(g1 - g_milano) / sg1,2)})')\n",
    "print(f'errore relativo percentuale: {np.round(sg1/g1,3)*100}% << 5%\\n')\n",
    "\n",
    "p = (1-probability_under_norm(g2,sg2,g_milano))*100\n",
    "print(f'Accordo in percentuale cadura libera: {int(p)}% >> 5%')\n",
    "print(f'(distanza in sigma: {np.round(np.abs(g2 - g_milano) / sg2,2)})')\n",
    "print(f'errore relativo percentuale: {np.round(sg2/g2,4)*100}% << 5%\\n')"
   ]
  },
  {
   "attachments": {},
   "cell_type": "markdown",
   "metadata": {},
   "source": [
    "Il pendolo di Kater ha fornito un valore dell'accellerazione di gravità più fedele a quello atteso e più preciso rispetto alla caduta libera"
   ]
  }
 ],
 "metadata": {
  "kernelspec": {
   "display_name": "Python 3",
   "language": "python",
   "name": "python3"
  },
  "language_info": {
   "codemirror_mode": {
    "name": "ipython",
    "version": 3
   },
   "file_extension": ".py",
   "mimetype": "text/x-python",
   "name": "python",
   "nbconvert_exporter": "python",
   "pygments_lexer": "ipython3",
   "version": "3.10.6"
  },
  "orig_nbformat": 4
 },
 "nbformat": 4,
 "nbformat_minor": 2
}
