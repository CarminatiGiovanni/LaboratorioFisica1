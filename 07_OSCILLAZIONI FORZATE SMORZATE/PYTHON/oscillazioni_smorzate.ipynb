{
 "cells": [
  {
   "attachments": {},
   "cell_type": "markdown",
   "metadata": {},
   "source": [
    "# OSCILLAZIONI SMORZATE\n",
    "\n",
    "la raccolta dati viene interpolata con una sinusoide smorzata, raccogliamo misurazioni di $\\gamma$ e $\\omega$\n",
    "\n",
    "$\\theta (t) = A_0 e^{-\\gamma t} \\sin (\\omega t + \\phi)$\n",
    "\n",
    "$\\omega = \\sqrt{\\omega_0^2 - \\gamma^2} \\Rightarrow \\omega_0 = \\sqrt{\\omega^2 +\\gamma^2}$"
   ]
  },
  {
   "cell_type": "code",
   "execution_count": 1,
   "metadata": {},
   "outputs": [
    {
     "name": "stdout",
     "output_type": "stream",
     "text": [
      "omega:  2.571 ± 0.012 \n",
      "sigma_omega:  0.037\n",
      "gamma:  0.164 ± 0.002 \n",
      "sigma_gamma:  0.007\n",
      "\n",
      "omega_0 :  2.576 ± 0.012 \n"
     ]
    }
   ],
   "source": [
    "import numpy as np\n",
    "import pandas as pd\n",
    "import os\n",
    "from interpolazione3 import final_val,b_std\n",
    "\n",
    "FILE = os.path.abspath('') + '/../CSV/oscillazioni_smorzate.csv'\n",
    "fr = pd.read_csv(FILE)\n",
    "\n",
    "omega = np.array(fr['omega']) # rad/s\n",
    "gamma = np.array(fr['gamma'])\n",
    "\n",
    "omega_m = np.average(omega)\n",
    "omega_sm = 0.01 # errore dello strumento di misura\n",
    "omega_std = np.sqrt(b_std(omega)**2 + omega_sm**2)\n",
    "omega_mstd = omega_std/np.sqrt(len(omega))\n",
    "\n",
    "gamma_m = np.average(gamma)\n",
    "gamma_sm = 0.001 # errore dello strumento di misura\n",
    "gamma_std = np.sqrt(b_std(gamma)**2 + gamma_sm**2)\n",
    "gamma_mstd = gamma_std/np.sqrt(len(gamma))\n",
    "\n",
    "omega_zero = np.sqrt(omega_m**2 + gamma_m**2)\n",
    "\n",
    "n = omega_m**2 * omega_mstd**2 + gamma_m**2 * gamma_mstd**2\n",
    "s = omega_m**2 + gamma_m**2\n",
    "\n",
    "sigma_omega_zero = np.sqrt(n/s)\n",
    "\n",
    "print(\"omega: \",final_val(omega_m,omega_mstd, decimals=3))\n",
    "print(\"sigma_omega: \",np.round(omega_std,3))\n",
    "print(\"gamma: \",final_val(gamma_m,gamma_mstd, decimals=3))\n",
    "print(\"sigma_gamma: \",np.round(gamma_std,3))\n",
    "print()\n",
    "print(\"omega_0 : \",final_val(omega_zero, sigma_omega_zero, decimals=3)) "
   ]
  },
  {
   "attachments": {},
   "cell_type": "markdown",
   "metadata": {},
   "source": [
    "### nota propagazione dell'errore:\n",
    "\n",
    "$\\omega_0 = \\sqrt{\\omega^2+\\gamma^2} \\\\$\n",
    "$\\sigma_{\\omega_0} = \\sqrt{\\left(\\frac{\\partial\\omega_0}{\\partial\\omega}\\right)^2\\sigma_\\omega^2 + \n",
    "\\left(\\frac{\\partial\\omega_0}{\\partial\\gamma}\\right)^2\\sigma_\\gamma^2} \\Rightarrow\n",
    "\\sigma_{\\omega_0} = \\sqrt{\\frac{\\omega^2\\sigma_\\omega^2+\\gamma^2\\sigma_\\gamma^2}{\\omega^2+\\gamma^2}}\n",
    "$"
   ]
  }
 ],
 "metadata": {
  "kernelspec": {
   "display_name": "Python 3",
   "language": "python",
   "name": "python3"
  },
  "language_info": {
   "codemirror_mode": {
    "name": "ipython",
    "version": 3
   },
   "file_extension": ".py",
   "mimetype": "text/x-python",
   "name": "python",
   "nbconvert_exporter": "python",
   "pygments_lexer": "ipython3",
   "version": "3.10.6"
  },
  "orig_nbformat": 4
 },
 "nbformat": 4,
 "nbformat_minor": 2
}
