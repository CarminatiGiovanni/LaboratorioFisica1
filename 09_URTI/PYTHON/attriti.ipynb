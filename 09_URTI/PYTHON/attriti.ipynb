{
 "cells": [
  {
   "attachments": {},
   "cell_type": "markdown",
   "metadata": {},
   "source": [
    "# ATTRITO STATICO\n",
    "\n",
    "$F_s = \\mu_sN = \\mu_s mg$"
   ]
  },
  {
   "cell_type": "code",
   "execution_count": 8,
   "metadata": {},
   "outputs": [
    {
     "name": "stdout",
     "output_type": "stream",
     "text": [
      "mu_s 1:  0.22 ± 0.02 \n",
      "mu_s 2:  0.21 ± 0.01 \n"
     ]
    }
   ],
   "source": [
    "import pandas as pd\n",
    "import numpy as np\n",
    "import os\n",
    "from interpolazione3 import final_val\n",
    "\n",
    "FILE = os.path.abspath('') + '/../CSV/mu_statico.csv'\n",
    "fr = pd.read_csv(FILE)\n",
    "\n",
    "F = np.array(fr['F']) # N\n",
    "N = 9.81*0.500 # N\n",
    "mu_s = F/N\n",
    "\n",
    "mu_sstd = np.std(mu_s)\n",
    "mu_s = np.mean(mu_s)\n",
    "print('mu_s 1: ',final_val(mu_s,mu_sstd))\n",
    "\n",
    "F = np.array(fr['F2']) # N\n",
    "N = 9.81*0.655 # N\n",
    "mu_s = F/N\n",
    "\n",
    "mu_sstd = np.std(mu_s)\n",
    "mu_s = np.mean(mu_s)\n",
    "print('mu_s 2: ',final_val(mu_s,mu_sstd))"
   ]
  },
  {
   "attachments": {},
   "cell_type": "markdown",
   "metadata": {},
   "source": [
    "La previsione che i coefficienti fossero i medesimi è confermata dalle misure sperimentali"
   ]
  },
  {
   "attachments": {},
   "cell_type": "markdown",
   "metadata": {},
   "source": [
    "# ATTRITO DINAMICO\n",
    "\n",
    "inclinando la rotaia di $\\theta = 10°$:\n",
    "\n",
    "$a = g  \\sin{\\theta}-\\mu_d g  \\cos{\\theta}$"
   ]
  },
  {
   "cell_type": "code",
   "execution_count": 11,
   "metadata": {},
   "outputs": [
    {
     "name": "stdout",
     "output_type": "stream",
     "text": [
      "(-1.7 ± 1.2)e-3 \n"
     ]
    }
   ],
   "source": [
    "FILE = os.path.abspath('') + '/../CSV/mu_dinamico.csv'\n",
    "fr = pd.read_csv(FILE)\n",
    "a = np.array(fr['a'])\n",
    "teta = (10*np.pi)/180\n",
    "mu_d = np.tan(teta)-a/(9.81*np.cos(teta))\n",
    "\n",
    "mu_dstd = np.std(mu_d)\n",
    "mu_d = np.mean(mu_d)\n",
    "print(final_val(mu_d,mu_dstd,decimals=1,exp=-3))"
   ]
  }
 ],
 "metadata": {
  "kernelspec": {
   "display_name": "Python 3",
   "language": "python",
   "name": "python3"
  },
  "language_info": {
   "codemirror_mode": {
    "name": "ipython",
    "version": 3
   },
   "file_extension": ".py",
   "mimetype": "text/x-python",
   "name": "python",
   "nbconvert_exporter": "python",
   "pygments_lexer": "ipython3",
   "version": "3.10.6"
  },
  "orig_nbformat": 4
 },
 "nbformat": 4,
 "nbformat_minor": 2
}
