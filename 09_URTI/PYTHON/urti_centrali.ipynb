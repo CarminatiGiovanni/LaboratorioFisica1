{
 "cells": [
  {
   "attachments": {},
   "cell_type": "markdown",
   "metadata": {},
   "source": [
    "# URTI CENTRALI\n",
    "\n",
    "Scopo di questa parte è realizzare diversi tipi di urto del carrello utilizzando tipi di \n",
    "respingenti diversi, variando inoltre la massa del carrello e la sua velocità iniziale\n",
    "\n",
    "## TEOREMA DELL'IMPULSO\n",
    "$I = \\Delta p = p(t_2)-p(t_1) = \\int Fdt$\n",
    "\n",
    "### URTO COMPLETAMENTE ELASTICO\n",
    "nel caso di un urto completamente elastico vale la conservazione dell'energia cinetica e della quantità di moto:\n",
    "\n",
    "$\\Delta p = 0 \\quad\\quad \\Delta E_k = 0$"
   ]
  },
  {
   "attachments": {},
   "cell_type": "markdown",
   "metadata": {},
   "source": [
    "## PARTE A: urti con magnete"
   ]
  },
  {
   "cell_type": "code",
   "execution_count": null,
   "metadata": {},
   "outputs": [],
   "source": [
    "import numpy as np\n",
    "import pandas as pd\n",
    "import os\n",
    "import matplotlib.pyplot as plt\n",
    "from interpolazione3 import final_val, probability_under_norm\n",
    "\n",
    "PATH = os.path.abspath('')\n",
    "FILE = PATH + '/../CSV/urti_magnete.csv'\n",
    "fr = pd.read_csv(FILE)\n",
    "\n"
   ]
  }
 ],
 "metadata": {
  "language_info": {
   "name": "python"
  },
  "orig_nbformat": 4
 },
 "nbformat": 4,
 "nbformat_minor": 2
}
