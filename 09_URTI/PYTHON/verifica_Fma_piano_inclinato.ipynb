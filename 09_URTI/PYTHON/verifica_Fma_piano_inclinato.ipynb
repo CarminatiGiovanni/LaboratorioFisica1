{
 "cells": [
  {
   "attachments": {},
   "cell_type": "markdown",
   "metadata": {},
   "source": [
    "# PARTE B: stima della massa e dell'ampiezza dell'angolo\n",
    "\n",
    "estendiamo $F = ma$ a un piano inclinato, sul corpo la componente della forza peso è scomposta sugli assi paralleli e perpendicolari al piano.\n"
   ]
  },
  {
   "cell_type": "code",
   "execution_count": null,
   "metadata": {},
   "outputs": [],
   "source": []
  }
 ],
 "metadata": {
  "language_info": {
   "name": "python"
  },
  "orig_nbformat": 4
 },
 "nbformat": 4,
 "nbformat_minor": 2
}
