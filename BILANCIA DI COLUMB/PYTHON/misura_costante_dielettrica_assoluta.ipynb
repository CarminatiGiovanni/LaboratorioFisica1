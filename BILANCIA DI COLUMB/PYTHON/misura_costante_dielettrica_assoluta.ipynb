{
 "cells": [
  {
   "attachments": {},
   "cell_type": "markdown",
   "metadata": {},
   "source": [
    "# misura costante dielettrica assoluta $\\varepsilon_0$\n",
    "\n",
    "di seguito vengono fatte due stime per la costante dielettrica assoluta:\n",
    "la prima è basata su misure con distanza variabile (PARTE B) mentre la seconda misure a distanza fissa (PARTE A)\n",
    "\n",
    "$F = \\frac{1}{4\\pi\\varepsilon_0\\varepsilon_d}\\frac{Q_1Q_1}{d^2} \\quad \\oplus \\quad F = K_{tor}\\theta \\quad \\oplus \\quad Q = CV = 4\\pi\\varepsilon_0\\varepsilon_r aV$\n",
    "<span style='font-size:12px'>a = raggio della sfera</span>\n",
    "\n",
    "assumendo $\\varepsilon_d$ trascurabile otteniamo:\n",
    "\n",
    "$\\mathbf{\\theta = \\frac{4\\pi\\varepsilon_0 a^2}{K_{tor}}\\frac{V_1V_2}{d^2}}$"
   ]
  },
  {
   "cell_type": "code",
   "execution_count": 1,
   "metadata": {},
   "outputs": [],
   "source": [
    "from typing import Final as const\n",
    "import numpy as np\n",
    "\n",
    "COSTANTE_DI_TORSIONE: const = 8.62e-05 # da torsione PARTE C\n",
    "sigma_COSTANTE_DI_TORSIONE: const = 0.07e-05\n",
    "\n",
    "raggio: const = 0.017 # m"
   ]
  },
  {
   "attachments": {},
   "cell_type": "markdown",
   "metadata": {},
   "source": [
    "### distanza variabile $\\theta \\propto \\frac{1}{d^2}$:\n",
    "\n",
    "$B = \\frac{4\\pi\\varepsilon_0a^2V_1V_2}{K_{tor}} \\Rightarrow \\varepsilon_0 = \\frac{K_{tor}B}{4\\pi a^2V_1V_2}$"
   ]
  },
  {
   "cell_type": "code",
   "execution_count": 2,
   "metadata": {},
   "outputs": [
    {
     "name": "stdout",
     "output_type": "stream",
     "text": [
      "8.24e-12 4e-13\n"
     ]
    }
   ],
   "source": [
    "distanza_variabile_A:const = 0.0125 #B\n",
    "sigma_distanza_variabile_A = 0.0006 #sigmaB\n",
    "\n",
    "EPSILON = COSTANTE_DI_TORSIONE * distanza_variabile_A / (4*np.pi*6000*6000*raggio**2)\n",
    "sigmaEPSILON = EPSILON * np.sqrt((sigma_COSTANTE_DI_TORSIONE/COSTANTE_DI_TORSIONE)**2+(sigma_distanza_variabile_A/distanza_variabile_A)**2)\n",
    "print(np.round(EPSILON,14), np.round(sigmaEPSILON,14))\n"
   ]
  },
  {
   "attachments": {},
   "cell_type": "markdown",
   "metadata": {},
   "source": [
    "### tensione variabile $\\theta \\propto V_1V_2$:\n",
    "\n",
    "$B = \\frac{4\\pi\\varepsilon_0a^2}{K_{tor}d^2} \\Rightarrow \\varepsilon_0 = \\frac{K_{tor}B d^2}{4\\pi a^2}$"
   ]
  },
  {
   "cell_type": "code",
   "execution_count": 3,
   "metadata": {},
   "outputs": [
    {
     "name": "stdout",
     "output_type": "stream",
     "text": [
      "8.521067539676772e-12 2.7010514221495516e-13\n"
     ]
    }
   ],
   "source": [
    "tensione_variabile_A = 3.59e-08 #B\n",
    "sigma_tensione_variabile_A = 0.11e-08 #sigmaB\n",
    "d = 0.1 #m\n",
    "EPSILON = (tensione_variabile_A * COSTANTE_DI_TORSIONE * d**2)/(4*np.pi*np.power(raggio,2))\n",
    "sigmaEPSILON = EPSILON * np.sqrt((sigma_COSTANTE_DI_TORSIONE/COSTANTE_DI_TORSIONE)**2+(sigma_tensione_variabile_A/tensione_variabile_A)**2)\n",
    "print(EPSILON, sigmaEPSILON)"
   ]
  }
 ],
 "metadata": {
  "kernelspec": {
   "display_name": "Python 3",
   "language": "python",
   "name": "python3"
  },
  "language_info": {
   "codemirror_mode": {
    "name": "ipython",
    "version": 3
   },
   "file_extension": ".py",
   "mimetype": "text/x-python",
   "name": "python",
   "nbconvert_exporter": "python",
   "pygments_lexer": "ipython3",
   "version": "3.10.6"
  },
  "orig_nbformat": 4
 },
 "nbformat": 4,
 "nbformat_minor": 2
}
