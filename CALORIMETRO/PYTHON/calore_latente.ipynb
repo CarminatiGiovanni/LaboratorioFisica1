{
 "cells": [
  {
   "cell_type": "code",
   "execution_count": 1,
   "metadata": {},
   "outputs": [
    {
     "name": "stdout",
     "output_type": "stream",
     "text": [
      "calore latente: 476.3e+3 ± 31.13e+3\n"
     ]
    }
   ],
   "source": [
    "from typing import Final as const\n",
    "from interpolazione2 import parseResult\n",
    "import numpy as np\n",
    "\n",
    "T_fus: const = 273.15 # °K temperatura di fusione del ghiaccio\n",
    "c_ice: const = 2051 # calore specifico del ghiaccio\n",
    "c_h20: const = 4181 # calore specifico dell'acqua\n",
    "\n",
    "m_ice = 0.05 # kg massa di ghiaccio\n",
    "m_h20 = 0.3 # kg massa di acqua\n",
    "me_200 = 0.014 # massa equivalente per 200g di h20\n",
    "me = me_200 * 0.3 / 0.2 # massa equivalente per 300g di h20\n",
    "\n",
    "Te = 57.5 + 273.15 # °K temperatura di equilibrio misurata\n",
    "T_h20 = 85.5 + 273.15 # °K temperatura acqua riscaldata\n",
    "T_ice = -17 + 273.15 # °K temperatura ghiaccio (freezer)\n",
    "\n",
    "sigma_T = 0.5 # incertezza dovuta allo strumento di misura\n",
    "sigma_me = 0.007 * 0.3 / 0.2 # incertezza della massa equivalente per 300g di h20\n",
    "\n",
    "calore_latente = (\n",
    "    (m_h20 + me) * c_h20 * (T_h20 - Te)  # sigma_me e sigma_Tx2\n",
    "    - m_ice * c_ice * (T_fus - T_ice) # assummiamo la temperatura del ghiaccio senza errori\n",
    "    - m_ice * c_h20 * (Te - T_fus) # sigma_T\n",
    "    )/m_ice\n",
    "\n",
    "\n",
    "e1 = (m_h20 + me) * c_h20 * (T_h20 - Te)\n",
    "sumT = np.sqrt(sigma_T**2 + sigma_T**2) # somma degli errori nella misurazione delle temperature\n",
    "sigma_e1 = e1 * np.sqrt((sigma_me/(m_h20 + me))**2 + (sumT/(T_h20 - Te))**2) # errori nel primo termine della somma\n",
    "sigma_e2 = m_ice * c_h20 * sigma_T # errori nel terzo termine della somma\n",
    "sigma_sum = np.sqrt(sigma_e1**2 + sigma_e2**2) # errori nella somma superiore\n",
    "sigma_cl = sigma_sum / m_ice # errore propagato del calore latente\n",
    "\n",
    "calore_latente = int(calore_latente)\n",
    "sigma_cl = int(sigma_cl)\n",
    "print(\"calore latente: \" + parseResult(calore_latente,sigma_cl,decimals = 2,exponent = 3))\n"
   ]
  }
 ],
 "metadata": {
  "kernelspec": {
   "display_name": "Python 3",
   "language": "python",
   "name": "python3"
  },
  "language_info": {
   "codemirror_mode": {
    "name": "ipython",
    "version": 3
   },
   "file_extension": ".py",
   "mimetype": "text/x-python",
   "name": "python",
   "nbconvert_exporter": "python",
   "pygments_lexer": "ipython3",
   "version": "3.10.6"
  },
  "orig_nbformat": 4,
  "vscode": {
   "interpreter": {
    "hash": "31f2aee4e71d21fbe5cf8b01ff0e069b9275f58929596ceb00d14d90e3e16cd6"
   }
  }
 },
 "nbformat": 4,
 "nbformat_minor": 2
}
