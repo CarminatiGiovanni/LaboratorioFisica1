{
 "cells": [
  {
   "cell_type": "code",
   "execution_count": null,
   "metadata": {},
   "outputs": [],
   "source": [
    "import numpy as np\n",
    "from matplotlib import pyplot as plt\n",
    "f_FINE = np.array([89,183,275])\n",
    "f_GROSSA = np.array([27,54,81])\n",
    "\n",
    "massa_GROSSA = 4.3 * 0.001 #kg\n",
    "massa_FINE = 0.3 * 0.001 # kg\n",
    "\n",
    "l_GROSSA = 2 # m\n",
    "l_FINE = 1.23 # m\n",
    "\n",
    "mu_GROSSA = massa_GROSSA/l_GROSSA\n",
    "mu_FINE = massa_FINE/l_FINE\n",
    "\n",
    "n = np.array([1,2,3])\n",
    "\n",
    "plt.plot(n,f_FINE,'o-', label=f'$\\mu: {mu_GROSSA}$')\n",
    "plt.plot(n,f_GROSSA,'o-', label=f'$\\mu: {mu_FINE}$')\n",
    "plt.xlabel('$N_{armonica}$')\n",
    "plt.ylabel(\"$\\nu (Hz)$\")\n",
    "plt.xticks(n)\n",
    "plt.legend()\n",
    "plt.show()"
   ]
  }
 ],
 "metadata": {
  "language_info": {
   "name": "python"
  },
  "orig_nbformat": 4
 },
 "nbformat": 4,
 "nbformat_minor": 2
}
