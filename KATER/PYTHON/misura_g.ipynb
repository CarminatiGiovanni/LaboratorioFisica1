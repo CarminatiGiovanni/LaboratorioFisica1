{
 "cells": [
  {
   "attachments": {},
   "cell_type": "markdown",
   "metadata": {},
   "source": [
    "# MISURAZIONE g"
   ]
  },
  {
   "cell_type": "code",
   "execution_count": 2,
   "metadata": {},
   "outputs": [],
   "source": [
    "T1,sigmaT1 = 2.0026, 1.4138 # interpolazione formula T*\n",
    "T2,sigmaT2 = 2.0022, 0.096 # valori raccolti formula T*\n",
    "T3,sigmaT3 = 2.0026, 0.1196 # risoluzione sistema 1\n",
    "T4,sigmaT4 = 2.0026, 0.0245 # risoluzione sistema 2\n",
    "\n",
    "T5,sigmaT5 = 2.0026, 0.0024 # propagazione corretta con derivate parziali"
   ]
  },
  {
   "cell_type": "code",
   "execution_count": 3,
   "metadata": {},
   "outputs": [
    {
     "name": "stdout",
     "output_type": "stream",
     "text": [
      "T1:  9.785 ± 13.816 m s^{-2}\n",
      "T2:  9.789 ± 0.939 m s^{-2}\n",
      "T3:  9.785 ± 1.169 m s^{-2}\n",
      "T4:  9.785 ± 0.239 m s^{-2}\n",
      "T5:  9.7849 ± 0.0235 m s^{-2}\n"
     ]
    }
   ],
   "source": [
    "import numpy as np\n",
    "from interpolazione3 import final_val\n",
    "D = 0.994\n",
    "\n",
    "def g_T(T,sT):\n",
    "    g = 4* np.pi**2 * D / T**2\n",
    "    sg = g*2*sT/T\n",
    "    return g,sg\n",
    "\n",
    "print('T1: ',final_val(*g_T(T1,sigmaT1),decimals=3,udm='m s^{-2}'))\n",
    "print('T2: ',final_val(*g_T(T2,sigmaT2),decimals=3,udm='m s^{-2}'))\n",
    "print('T3: ',final_val(*g_T(T3,sigmaT3),decimals=3,udm='m s^{-2}'))\n",
    "print('T4: ',final_val(*g_T(T4,sigmaT4),decimals=3,udm='m s^{-2}'))\n",
    "print('T5: ',final_val(*g_T(T5,sigmaT5),decimals=4,udm='m s^{-2}'))"
   ]
  }
 ],
 "metadata": {
  "kernelspec": {
   "display_name": "Python 3",
   "language": "python",
   "name": "python3"
  },
  "language_info": {
   "codemirror_mode": {
    "name": "ipython",
    "version": 3
   },
   "file_extension": ".py",
   "mimetype": "text/x-python",
   "name": "python",
   "nbconvert_exporter": "python",
   "pygments_lexer": "ipython3",
   "version": "3.10.6"
  },
  "orig_nbformat": 4
 },
 "nbformat": 4,
 "nbformat_minor": 2
}
