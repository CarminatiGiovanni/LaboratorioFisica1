{
 "cells": [
  {
   "attachments": {},
   "cell_type": "markdown",
   "metadata": {},
   "source": [
    "# OSCILLAZIONI LIBERE\n",
    "\n",
    "Interpoliamo i dati ottenuti della misurazione della velocità angolare del disco con una sinusoide.\n",
    "\n",
    "Il sistema comunque esercita uno smorzamento benchè sia minimo, ci aspettiamo quindi che $\\omega_0$ sia una sottostima del valore vero"
   ]
  },
  {
   "cell_type": "code",
   "execution_count": 5,
   "metadata": {},
   "outputs": [
    {
     "name": "stdout",
     "output_type": "stream",
     "text": [
      "omega_0:  2.62 ± 0.04 rad s^{-1}\n"
     ]
    }
   ],
   "source": [
    "import numpy as np\n",
    "import pandas as pd\n",
    "import os\n",
    "from interpolazione3 import final_val\n",
    "\n",
    "FILE = os.path.abspath('') + '/../CSV/oscillazioni_libere.csv'\n",
    "fr = pd.read_csv(FILE)\n",
    "\n",
    "omega = np.array(fr['omega (rad/s)'])\n",
    "sigmaomega = np.array(fr['sigmaomega'])\n",
    "w = 1 / sigmaomega**2\n",
    "omega_zero = np.average(omega, weights=sigmaomega)\n",
    "errore_strumento_di_misura = 0.1\n",
    "omega_zero_std = np.sqrt(np.std(omega_zero)**2 + errore_strumento_di_misura**2)\n",
    "err_media = omega_zero_std / np.sqrt(len(omega))\n",
    "\n",
    "print('omega_0: ',final_val(omega_zero,err_media, udm='rad s^{-1}'))"
   ]
  },
  {
   "attachments": {},
   "cell_type": "markdown",
   "metadata": {},
   "source": [
    "notare all'errore di misura che viene assunto, infatti sebbene l'interpolazione fatta con capstone considerasse errori molto piccoli abbiamo notato che variando l'area dei dati presi in considerazione il valore di $\\omega_0$ variava di circa 0.1 $rad s^{-1}$"
   ]
  }
 ],
 "metadata": {
  "kernelspec": {
   "display_name": "Python 3",
   "language": "python",
   "name": "python3"
  },
  "language_info": {
   "codemirror_mode": {
    "name": "ipython",
    "version": 3
   },
   "file_extension": ".py",
   "mimetype": "text/x-python",
   "name": "python",
   "nbconvert_exporter": "python",
   "pygments_lexer": "ipython3",
   "version": "3.10.6"
  },
  "orig_nbformat": 4
 },
 "nbformat": 4,
 "nbformat_minor": 2
}
